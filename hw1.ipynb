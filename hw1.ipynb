{
 "cells": [
  {
   "cell_type": "code",
   "execution_count": 14,
   "metadata": {},
   "outputs": [
    {
     "name": "stdout",
     "output_type": "stream",
     "text": [
      "Розв'яжемо квадратне рівняння\n",
      "Введите значення а -2\n",
      "Введите значення b 7\n",
      "Введите значення c -6\n",
      "x1= 6.0\n",
      "x2= 8.0\n"
     ]
    }
   ],
   "source": [
    "print(\"Розв'яжемо квадратне рівняння\")\n",
    "a=float(input(\"Введите значення а \"))\n",
    "b=float(input(\"Введите значення b \"))\n",
    "c=float(input(\"Введите значення c \"))\n",
    "d=b*b-4*a*c\n",
    "x1=(-b+d**(1/2))/2*a\n",
    "x2=(-b-d**(1/2))/2*a\n",
    "print('x1=',x1)\n",
    "print('x2=',x2)"
   ]
  },
  {
   "cell_type": "code",
   "execution_count": 15,
   "metadata": {},
   "outputs": [
    {
     "name": "stdout",
     "output_type": "stream",
     "text": [
      "Зайдемо суму цілих чисел від 0 до n\n",
      "Введіть n5\n",
      "15.0\n"
     ]
    }
   ],
   "source": [
    "print (\"Зайдемо суму цілих чисел від 0 до n\")\n",
    "n=int(input(\"Введіть n \"))\n",
    "print(n*(n+1)/2)"
   ]
  },
  {
   "cell_type": "code",
   "execution_count": 17,
   "metadata": {},
   "outputs": [
    {
     "name": "stdout",
     "output_type": "stream",
     "text": [
      "Знаходемо загальну вагу замовлення\n",
      "Яку кількість widgets ви хочете придбати 2\n",
      "Яку кількість gizmos ви хочете придбати 1\n",
      "Загальна вага замовлення  262\n"
     ]
    }
   ],
   "source": [
    "print(\"Знаходемо загальну вагу замовлення\")\n",
    "widgets=int(input(\"Яку кількість widgets ви хочете придбати \"))\n",
    "gizmos=int(input(\"Яку кількість gizmos ви хочете придбати \"))\n",
    "print('Загальна вага замовлення ',widgets*75+gizmos*112)"
   ]
  },
  {
   "cell_type": "code",
   "execution_count": 29,
   "metadata": {},
   "outputs": [
    {
     "name": "stdout",
     "output_type": "stream",
     "text": [
      "Знаходження відстані між двома точками на поверхні землі\n",
      "введіть координати першої точки\n",
      "t1= 5\n",
      "g1= 3\n",
      "введіть координати другої точки\n",
      "t2= 3\n",
      "g2= 3\n",
      "Відстань між двома точками  222.39020235496199 км\n"
     ]
    }
   ],
   "source": [
    "import math\n",
    "print(\"Знаходження відстані між двома точками на поверхні землі\")\n",
    "print (\"введіть координати першої точки\")\n",
    "t1=float(input('t1= ')) \n",
    "g1=float(input('g1= '))\n",
    "print (\"введіть координати другої точки\")\n",
    "t2=float(input('t2= '))\n",
    "g2=float(input('g2= '))\n",
    "t1=math.radians(t1)\n",
    "g1=math.radians(g1)\n",
    "t2=math.radians(t2)\n",
    "g2=math.radians(g2)\n",
    "distance=6371.01*math.acos(math.sin(t1)*math.sin(t2)+math.cos(t1)*math.cos(t2)*math.cos(g1-g2))\n",
    "print (\"Відстань між двома точками \",distance,'км')"
   ]
  },
  {
   "cell_type": "code",
   "execution_count": 40,
   "metadata": {},
   "outputs": [
    {
     "name": "stdout",
     "output_type": "stream",
     "text": [
      "Наша пекарня, вітає вас\n",
      "Скільки буханок хліба, Ви бажаєте купити10\n",
      "Одна буханка свіжого хліба буде коштувати 3.49\n",
      "Вчорашній хліб у нас коштує  1.4  за буханку\n",
      "Якщо ви хочете свіжий хліб то з вас  35  Якщо вчорашній то  14.0\n"
     ]
    }
   ],
   "source": [
    "print ('Наша пекарня, вітає вас')\n",
    "n=int(input('Скільки буханок хліба, Ви бажаєте купити '))\n",
    "print ('Одна буханка свіжого хліба буде коштувати 3.49')\n",
    "dp=round(3.49*0.4,2)\n",
    "print ('Вчорашній хліб у нас коштує ',dp, ' за буханку')\n",
    "print ('Якщо ви хочете свіжий хліб то з вас ',round(n*3.49),' Якщо вчорашній то ', dp*n)"
   ]
  },
  {
   "cell_type": "code",
   "execution_count": null,
   "metadata": {},
   "outputs": [],
   "source": []
  }
 ],
 "metadata": {
  "kernelspec": {
   "display_name": "Python 3",
   "language": "python",
   "name": "python3"
  },
  "language_info": {
   "codemirror_mode": {
    "name": "ipython",
    "version": 3
   },
   "file_extension": ".py",
   "mimetype": "text/x-python",
   "name": "python",
   "nbconvert_exporter": "python",
   "pygments_lexer": "ipython3",
   "version": "3.7.6"
  }
 },
 "nbformat": 4,
 "nbformat_minor": 4
}
